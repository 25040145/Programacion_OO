{
  "nbformat": 4,
  "nbformat_minor": 0,
  "metadata": {
    "colab": {
      "provenance": [],
      "authorship_tag": "ABX9TyPXAK7j07+qOE12BK6FgLtn",
      "include_colab_link": true
    },
    "kernelspec": {
      "name": "python3",
      "display_name": "Python 3"
    },
    "language_info": {
      "name": "python"
    }
  },
  "cells": [
    {
      "cell_type": "markdown",
      "metadata": {
        "id": "view-in-github",
        "colab_type": "text"
      },
      "source": [
        "<a href=\"https://colab.research.google.com/github/25040145/Programacion_OO/blob/main/Unidad1/programa1.ipynb\" target=\"_parent\"><img src=\"https://colab.research.google.com/assets/colab-badge.svg\" alt=\"Open In Colab\"/></a>"
      ]
    },
    {
      "cell_type": "code",
      "execution_count": 2,
      "metadata": {
        "colab": {
          "base_uri": "https://localhost:8080/"
        },
        "id": "UYJrWzlGOWQR",
        "outputId": "e2a7994c-0173-4378-935b-5122f2263d63"
      },
      "outputs": [
        {
          "output_type": "stream",
          "name": "stdout",
          "text": [
            "Escribir tu nombre: andree\n",
            "Tu nombre es:  andree\n"
          ]
        }
      ],
      "source": [
        "variable = input(\"Escribir tu nombre: \")\n",
        "print(\"Tu nombre es: \", variable)"
      ]
    },
    {
      "cell_type": "code",
      "source": [
        "nom = input(\"¿Me puedes dar tu nombre por favor?\")\n",
        "ape = input(\"¿Me puedes dar tu apellido por favor?\")\n",
        "print(\"Gracias\")\n",
        "print(\"/nTu nombre es:\" + nom + ape + \".\")"
      ],
      "metadata": {
        "colab": {
          "base_uri": "https://localhost:8080/"
        },
        "id": "m1DPBmhQOlfz",
        "outputId": "2054e2a6-b234-4822-9247-7f8e505a0957"
      },
      "execution_count": 3,
      "outputs": [
        {
          "output_type": "stream",
          "name": "stdout",
          "text": [
            "¿Me puedes dar tu nombre por favor?andree\n",
            "¿Me puedes dar tu apellido por favor?moreno\n",
            "Gracias\n",
            "/nTu nombre es:andreemoreno.\n"
          ]
        }
      ]
    },
    {
      "cell_type": "code",
      "source": [
        "# Marcar error porque se debe convertir el tipo de dato\n",
        "x = int(input(\"Dame un numero para multiplicar:\"))\n",
        "z = x * 5\n",
        "print(z)"
      ],
      "metadata": {
        "colab": {
          "base_uri": "https://localhost:8080/"
        },
        "id": "enVcIjtpOsCi",
        "outputId": "db87b621-3b90-4433-824c-b3af12b31834"
      },
      "execution_count": 4,
      "outputs": [
        {
          "output_type": "stream",
          "name": "stdout",
          "text": [
            "Dame un numero para multiplicar:8\n",
            "40\n"
          ]
        }
      ]
    },
    {
      "cell_type": "code",
      "source": [
        "cateto_a = float(input(\"inserte la longitud del primer cateto:\"))\n",
        "cateto_b = float(input(\"inserte la longitud del segundo cateto:\"))\n",
        "hipo = (cateto_a**2 + cateto_b**2) ** .5\n",
        "print(\"La longitud de la hipotenusa es:\", hipo)"
      ],
      "metadata": {
        "colab": {
          "base_uri": "https://localhost:8080/"
        },
        "id": "HBeGuohaOzmN",
        "outputId": "333f4597-dcf4-43ab-8471-cdbc4df073b5"
      },
      "execution_count": 5,
      "outputs": [
        {
          "output_type": "stream",
          "name": "stdout",
          "text": [
            "inserte la longitud del primer cateto:10\n",
            "inserte la longitud del segundo cateto:5\n",
            "La longitud de la hipotenusa es: 11.180339887498949\n"
          ]
        }
      ]
    },
    {
      "cell_type": "code",
      "source": [
        "# Mas de una lnea en un bloque de codigo\n",
        "a = 3000\n",
        "b = 12500\n",
        "if b > a:\n",
        "    print(\"b es mayor que a:\")\n",
        "    print(b, \"es mayor que\", a)\n",
        "else:\n",
        "    print(\"a es mayor que b\")\n",
        "    print(a, \"es mayor que\", b)\n",
        "print(\"Fin del if\")"
      ],
      "metadata": {
        "colab": {
          "base_uri": "https://localhost:8080/"
        },
        "id": "01CF7OJYO7rA",
        "outputId": "1450b192-a446-471b-80aa-7ab92b6f3e3d"
      },
      "execution_count": 6,
      "outputs": [
        {
          "output_type": "stream",
          "name": "stdout",
          "text": [
            "b es mayor que a:\n",
            "12500 es mayor que 3000\n",
            "Fin del if\n"
          ]
        }
      ]
    },
    {
      "cell_type": "code",
      "source": [
        "# Mas de una lnea en un bloque de codigo\n",
        "a = 3000\n",
        "b = 3000\n",
        "if b > a:\n",
        "    print(\"b es mayor que a:\")\n",
        "    print(\"b vale =>\", b)\n",
        "elif a==b:\n",
        "    print(\"a es igual que b\")\n",
        "    print(\"a y b valen =>\", a)\n",
        "else:\n",
        "    print(\"a es mayor que b\")\n",
        "    print(\"a vale =>\", a)\n",
        "print(\"Fin del if\")"
      ],
      "metadata": {
        "id": "yndH9OCIPAW-",
        "colab": {
          "base_uri": "https://localhost:8080/"
        },
        "outputId": "d112d194-6811-41fe-d481-1f5a90688848"
      },
      "execution_count": 9,
      "outputs": [
        {
          "output_type": "stream",
          "name": "stdout",
          "text": [
            "a es igual que b\n",
            "a y b valen => 3000\n",
            "Fin del if\n"
          ]
        }
      ]
    },
    {
      "cell_type": "code",
      "source": [
        "# if y if.. else en version corta  o simplificada\n",
        "# del lado izquierdo es cuando es verdadera la condicion\n",
        "x = 50\n",
        "y = 60\n",
        "\n",
        "print(\"x es mayor que y\") if (x > y) else print(\"y es mayor que x\")"
      ],
      "metadata": {
        "colab": {
          "base_uri": "https://localhost:8080/"
        },
        "id": "hbpAjYstPIEL",
        "outputId": "f59d6c8f-2f0b-494e-a955-a33d4c104da4"
      },
      "execution_count": 10,
      "outputs": [
        {
          "output_type": "stream",
          "name": "stdout",
          "text": [
            "y es mayor que x\n"
          ]
        }
      ]
    },
    {
      "cell_type": "code",
      "source": [
        "i = 1\n",
        "while i <= 10:\n",
        "     print(i)\n",
        "     i +=1\n",
        "print(\"fuera del while\")"
      ],
      "metadata": {
        "colab": {
          "base_uri": "https://localhost:8080/"
        },
        "id": "VEDDdN5sPMSz",
        "outputId": "4b753e56-a892-4a27-f811-2a600f2b6df0"
      },
      "execution_count": 13,
      "outputs": [
        {
          "output_type": "stream",
          "name": "stdout",
          "text": [
            "1\n",
            "2\n",
            "3\n",
            "4\n",
            "5\n",
            "6\n",
            "7\n",
            "8\n",
            "9\n",
            "10\n",
            "fuera del while\n"
          ]
        }
      ]
    },
    {
      "cell_type": "code",
      "source": [
        "# copiamos el ejemplo anterior para poner contexto BREAK\n",
        "# Agregamos una condicion para que se saga del ciclo cuando cumpla un criterio\n",
        "i = 1\n",
        "while i <=1000:\n",
        "     print(i)\n",
        "     if i == 10:\n",
        "         print(\"Entro al if\")\n",
        "         break\n",
        "     i += 1\n",
        "print(\"Fuera del while\")"
      ],
      "metadata": {
        "id": "RLAPW3wOPP3a",
        "colab": {
          "base_uri": "https://localhost:8080/"
        },
        "outputId": "752c1eae-9ad8-4a24-ac58-7cf5c4ea3ffa"
      },
      "execution_count": 12,
      "outputs": [
        {
          "output_type": "stream",
          "name": "stdout",
          "text": [
            "1\n",
            "2\n",
            "3\n",
            "4\n",
            "5\n",
            "6\n",
            "7\n",
            "8\n",
            "9\n",
            "10\n",
            "Entro al if\n",
            "Fuera del while\n"
          ]
        }
      ]
    },
    {
      "cell_type": "code",
      "source": [
        "while(True):\n",
        "     print(\"\"\"selecciona una opcion\n",
        "     1) opcion 1\n",
        "     2) opcion 2\n",
        "     3) Salir\"\"\")\n",
        "     opcion = input(\"¿Cual es la opcion que deseas?\")\n",
        "     if opcion == \"1\":\n",
        "         print(\"Seleccionaste la opcion 1 \\n\")\n",
        "     elif opcion == \"2\":\n",
        "         print(\"Seleccionaste la opcion salir\")\n",
        "\n",
        "     elif opcion == \"3\":\n",
        "         break\n",
        "     else:\n",
        "         print(\"opcion desconocida, vuelve a intentarlo\")\n",
        "print(\"Fuera del ciclo\")\n"
      ],
      "metadata": {
        "id": "njXuVn1pPTGO",
        "colab": {
          "base_uri": "https://localhost:8080/"
        },
        "outputId": "b65649e1-b71b-4be2-806a-378fd5826b92"
      },
      "execution_count": 11,
      "outputs": [
        {
          "output_type": "stream",
          "name": "stdout",
          "text": [
            "selecciona una opcion\n",
            "     1) opcion 1\n",
            "     2) opcion 2\n",
            "     3) Salir\n",
            "¿Cual es la opcion que deseas?1\n",
            "Seleccionaste la opcion 1 \n",
            "\n",
            "selecciona una opcion\n",
            "     1) opcion 1\n",
            "     2) opcion 2\n",
            "     3) Salir\n",
            "¿Cual es la opcion que deseas?3\n",
            "Fuera del ciclo\n"
          ]
        }
      ]
    },
    {
      "cell_type": "code",
      "source": [
        "# Si no se especifica un rango inicial or default empieza en cero\n",
        "# cuando se establece el limite o rango final siempre sera valor menos 1\n",
        "for x in range(5):\n",
        "    print(x)"
      ],
      "metadata": {
        "colab": {
          "base_uri": "https://localhost:8080/"
        },
        "id": "21YFsoCvungQ",
        "outputId": "e7caf2a1-4021-492f-a783-0d61be696474"
      },
      "execution_count": 14,
      "outputs": [
        {
          "output_type": "stream",
          "name": "stdout",
          "text": [
            "0\n",
            "1\n",
            "2\n",
            "3\n",
            "4\n"
          ]
        }
      ]
    },
    {
      "cell_type": "code",
      "source": [
        "for z in range(2, 5):\n",
        "  print(z)"
      ],
      "metadata": {
        "colab": {
          "base_uri": "https://localhost:8080/"
        },
        "id": "10F8UMsPvPeL",
        "outputId": "2b804661-3b1d-43e4-d0d5-0cdb7b442b4a"
      },
      "execution_count": 15,
      "outputs": [
        {
          "output_type": "stream",
          "name": "stdout",
          "text": [
            "2\n",
            "3\n",
            "4\n"
          ]
        }
      ]
    },
    {
      "cell_type": "code",
      "source": [
        "# Tercer parametro para el incremento\n",
        "for z in range(1, 25, 2):\n",
        "    print(z)"
      ],
      "metadata": {
        "colab": {
          "base_uri": "https://localhost:8080/"
        },
        "id": "f_CnV8TSvxZ5",
        "outputId": "ce56702a-eefd-42be-f0ad-8fd1ec495989"
      },
      "execution_count": 16,
      "outputs": [
        {
          "output_type": "stream",
          "name": "stdout",
          "text": [
            "1\n",
            "3\n",
            "5\n",
            "7\n",
            "9\n",
            "11\n",
            "13\n",
            "15\n",
            "17\n",
            "19\n",
            "21\n",
            "23\n"
          ]
        }
      ]
    },
    {
      "cell_type": "code",
      "source": [
        "print(\"La instruccion break\")\n",
        "variablez = True # variable de tipo Booleana\n",
        "for i in range(1, 6):\n",
        "    print(\"Esto es un print dentro del for\")\n",
        "    if variablez:\n",
        "       print(\"Entro al if\")\n",
        "       break\n",
        "print(\"Fuera del for\")"
      ],
      "metadata": {
        "colab": {
          "base_uri": "https://localhost:8080/"
        },
        "id": "JipMTxSvwodm",
        "outputId": "f96be5fa-923b-4e0c-a2c7-cef45375740b"
      },
      "execution_count": 17,
      "outputs": [
        {
          "output_type": "stream",
          "name": "stdout",
          "text": [
            "La instruccion break\n",
            "Esto es un print dentro del for\n",
            "Entro al if\n",
            "Fuera del for\n"
          ]
        }
      ]
    },
    {
      "cell_type": "code",
      "source": [
        "#Continue - ejemplo\n",
        "print(\"\\n La instruccion continue:\")\n",
        "for i in range(1, 6):\n",
        "    if i == 3:\n",
        "       continue\n",
        "    print(\"Dentro del bucle.\", i)\n",
        "print(\"Fuera del bucle.\")"
      ],
      "metadata": {
        "colab": {
          "base_uri": "https://localhost:8080/"
        },
        "id": "qo9LFTuzxPwD",
        "outputId": "6b9807d9-15a5-4739-daf9-740b62e4e242"
      },
      "execution_count": 18,
      "outputs": [
        {
          "output_type": "stream",
          "name": "stdout",
          "text": [
            "\n",
            " La instruccion continue:\n",
            "Dentro del bucle. 1\n",
            "Dentro del bucle. 2\n",
            "Dentro del bucle. 4\n",
            "Dentro del bucle. 5\n",
            "Fuera del bucle.\n"
          ]
        }
      ]
    },
    {
      "cell_type": "code",
      "source": [
        "frutas = [\"platano\", \"naranja\", \"manzana\"]\n",
        "for x in frutas:\n",
        "    print(x)\n",
        "    if x == \"naranja\":\n",
        "       break"
      ],
      "metadata": {
        "colab": {
          "base_uri": "https://localhost:8080/"
        },
        "id": "3WVt3I04zd7M",
        "outputId": "0e7b4e26-ec41-4ac6-b7a4-488af22eef2b"
      },
      "execution_count": 19,
      "outputs": [
        {
          "output_type": "stream",
          "name": "stdout",
          "text": [
            "platano\n",
            "naranja\n"
          ]
        }
      ]
    },
    {
      "cell_type": "code",
      "source": [
        "n = 0\n",
        "while n != 3:\n",
        "   print(n)\n",
        "   n += 1\n",
        "else:\n",
        "   print(n, \"else\")\n",
        "print() # Para generar una linea en blanco\n",
        "for i in range(0, 3):\n",
        "    print(i)\n",
        "else:\n",
        "    print(i, \"else\")"
      ],
      "metadata": {
        "colab": {
          "base_uri": "https://localhost:8080/"
        },
        "id": "7tjVppfH0Vme",
        "outputId": "fe4afc73-16fd-40a0-f53d-c04b11e236d7"
      },
      "execution_count": 20,
      "outputs": [
        {
          "output_type": "stream",
          "name": "stdout",
          "text": [
            "0\n",
            "1\n",
            "2\n",
            "3 else\n",
            "\n",
            "0\n",
            "1\n",
            "2\n",
            "2 else\n"
          ]
        }
      ]
    },
    {
      "cell_type": "code",
      "source": [
        "def funcion_saludar():\n",
        "    print(\"Hola mundo, desde mi funcion\")"
      ],
      "metadata": {
        "id": "KNvmOceP2PsM"
      },
      "execution_count": 21,
      "outputs": []
    },
    {
      "cell_type": "code",
      "source": [
        "funcion_saludar()"
      ],
      "metadata": {
        "colab": {
          "base_uri": "https://localhost:8080/"
        },
        "id": "iQyatIWM3_17",
        "outputId": "fa0e3f37-6f94-47de-a0e9-059a85c0925c"
      },
      "execution_count": 22,
      "outputs": [
        {
          "output_type": "stream",
          "name": "stdout",
          "text": [
            "Hola mundo, desde mi funcion\n"
          ]
        }
      ]
    },
    {
      "cell_type": "code",
      "source": [
        "# Parametros en funciones\n",
        "def tablas_multiplicar(x):\n",
        "    for z in range (1, 11):\n",
        "        print(x, \"por\", z, \"=\", x * z)\n",
        "    print(\"\\n fin de la funcion\")"
      ],
      "metadata": {
        "id": "dOdjYrll25xy"
      },
      "execution_count": 23,
      "outputs": []
    },
    {
      "cell_type": "code",
      "source": [
        "tablas_multiplicar(5)"
      ],
      "metadata": {
        "colab": {
          "base_uri": "https://localhost:8080/"
        },
        "id": "EBYh205A30CB",
        "outputId": "65aa8e0d-5165-4a5f-f8d0-b4001c74bd19"
      },
      "execution_count": null,
      "outputs": [
        {
          "output_type": "stream",
          "name": "stdout",
          "text": [
            "5 por 1 = 5\n",
            "5 por 2 = 10\n",
            "5 por 3 = 15\n",
            "5 por 4 = 20\n",
            "5 por 5 = 25\n",
            "5 por 6 = 30\n",
            "5 por 7 = 35\n",
            "5 por 8 = 40\n",
            "5 por 9 = 45\n",
            "5 por 10 = 50\n",
            "\n",
            " fin de la funcion\n"
          ]
        }
      ]
    },
    {
      "cell_type": "code",
      "source": [
        "def presentar(nombre, apellido, edad):\n",
        "    print(\"Hola, mi nombre es\", nombre, apellido, \"y mi edad es\", edad)\n",
        "\n",
        "presentar(\"Luke\", \"skywalker\", 40)\n",
        "presentar(\"Clark\", \"kent\", 19)\n",
        "presentar(\"andree\", \"moreno\", \"19\")"
      ],
      "metadata": {
        "colab": {
          "base_uri": "https://localhost:8080/"
        },
        "id": "17id7-vM4XEJ",
        "outputId": "75c6981f-6a59-4d1e-f2a0-276b65db275d"
      },
      "execution_count": 28,
      "outputs": [
        {
          "output_type": "stream",
          "name": "stdout",
          "text": [
            "Hola, mi nombre es Luke skywalker y mi edad es 40\n",
            "Hola, mi nombre es Clark kent y mi edad es 19\n",
            "Hola, mi nombre es andree moreno y mi edad es 19\n"
          ]
        }
      ]
    },
    {
      "cell_type": "code",
      "source": [
        "def presentar(nombre, apellido = \"moreno\"):\n",
        "    print(\"Hola, mi nombre es\", nombre, apellido)\n",
        "\n",
        "presentar(\"andree\", \"serna\")\n",
        "presentar(\"andree\")"
      ],
      "metadata": {
        "colab": {
          "base_uri": "https://localhost:8080/"
        },
        "id": "Y7kjSCyX5TQn",
        "outputId": "e74b1124-43e5-4854-916e-783a3d990b08"
      },
      "execution_count": 30,
      "outputs": [
        {
          "output_type": "stream",
          "name": "stdout",
          "text": [
            "Hola, mi nombre es andree serna\n",
            "Hola, mi nombre es andree moreno\n"
          ]
        }
      ]
    },
    {
      "cell_type": "code",
      "source": [
        "def presentar(nombre, apellido):\n",
        "    print(\"Hola mi nombre es\", nombre, apellido)\n",
        "\n",
        "presentar(nombre = \"andree\", apellido = \"serna\")\n",
        "presentar(apellido = \"serna\", nombre = \"andree\")"
      ],
      "metadata": {
        "colab": {
          "base_uri": "https://localhost:8080/"
        },
        "id": "KWXDiI156nTt",
        "outputId": "d0994f0b-2a98-442d-81d7-a60cf4fa1a12"
      },
      "execution_count": 36,
      "outputs": [
        {
          "output_type": "stream",
          "name": "stdout",
          "text": [
            "Hola mi nombre es andree serna\n",
            "Hola mi nombre es andree serna\n"
          ]
        }
      ]
    },
    {
      "cell_type": "code",
      "source": [
        "def calcularDoble(qaz):\n",
        "    qaz = qaz * 2\n",
        "    return qaz"
      ],
      "metadata": {
        "id": "AcEH1KJl7q3F"
      },
      "execution_count": 34,
      "outputs": []
    },
    {
      "cell_type": "code",
      "source": [
        "#Asignar el resultado de la division a una variable\n",
        "Valor_al_doble = calcularDoble(5)\n",
        "print(Valor_al_doble)"
      ],
      "metadata": {
        "colab": {
          "base_uri": "https://localhost:8080/"
        },
        "id": "Y3NMhU7z8AOW",
        "outputId": "c0e98da9-7416-4920-962b-7a0ab6c24c5e"
      },
      "execution_count": 37,
      "outputs": [
        {
          "output_type": "stream",
          "name": "stdout",
          "text": [
            "10\n"
          ]
        }
      ]
    },
    {
      "cell_type": "code",
      "source": [
        "# La variable variableX no existe, solo existe dentro de la funcion\n",
        "\n",
        "def miFuncion():\n",
        "    variableX = 123\n",
        "\n",
        "miFuncion()\n",
        "print(variableX)"
      ],
      "metadata": {
        "id": "YYursfOC8Txa"
      },
      "execution_count": null,
      "outputs": []
    },
    {
      "cell_type": "code",
      "source": [
        "def  miFuncion():\n",
        "    variable = 2\n",
        "    print(\"¿Valor de la variable?\", variable)\n",
        "\n",
        "variable = 1\n",
        "print(\"Valor de la variable\", variable)\n",
        "miFuncion()\n",
        "print(\"Valor de la variable\", variable)\n"
      ],
      "metadata": {
        "colab": {
          "base_uri": "https://localhost:8080/"
        },
        "id": "Aj_IDRyx9AhV",
        "outputId": "910f984d-0d3c-4279-e3aa-8d506964f3ca"
      },
      "execution_count": 40,
      "outputs": [
        {
          "output_type": "stream",
          "name": "stdout",
          "text": [
            "Valor de la variable 1\n",
            "¿Valor de la variable? 2\n",
            "Valor de la variable 1\n"
          ]
        }
      ]
    },
    {
      "cell_type": "code",
      "source": [
        "#se empleara la que se puede\n",
        "def  miFuncion():\n",
        "    global variable\n",
        "    variable = 2\n",
        "    print(\"¿Valor de la variable?\", variable)\n",
        "\n",
        "variable = 1\n",
        "print(\"Valor de la variable\", variable)\n",
        "miFuncion()\n",
        "print(\"Valor de la variable\", variable)\n"
      ],
      "metadata": {
        "colab": {
          "base_uri": "https://localhost:8080/"
        },
        "id": "6nSBleAH9j4y",
        "outputId": "05135973-8f86-46db-874f-f3d4ac10fb36"
      },
      "execution_count": 42,
      "outputs": [
        {
          "output_type": "stream",
          "name": "stdout",
          "text": [
            "Valor de la variable 1\n",
            "¿Valor de la variable? 2\n",
            "Valor de la variable 2\n"
          ]
        }
      ]
    }
  ]
}