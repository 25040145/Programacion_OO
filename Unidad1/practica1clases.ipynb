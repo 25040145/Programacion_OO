{
  "nbformat": 4,
  "nbformat_minor": 0,
  "metadata": {
    "colab": {
      "provenance": [],
      "authorship_tag": "ABX9TyNiqT+p1f2lU9PDvSlxmhBS",
      "include_colab_link": true
    },
    "kernelspec": {
      "name": "python3",
      "display_name": "Python 3"
    },
    "language_info": {
      "name": "python"
    }
  },
  "cells": [
    {
      "cell_type": "markdown",
      "metadata": {
        "id": "view-in-github",
        "colab_type": "text"
      },
      "source": [
        "<a href=\"https://colab.research.google.com/github/25040145/Programacion_OO/blob/main/Unidad1/practica1clases.ipynb\" target=\"_parent\"><img src=\"https://colab.research.google.com/assets/colab-badge.svg\" alt=\"Open In Colab\"/></a>"
      ]
    },
    {
      "cell_type": "code",
      "execution_count": 7,
      "metadata": {
        "id": "EEZ2x_dXpTRY"
      },
      "outputs": [],
      "source": [
        "# Definir una clase libro\n",
        "# Cada obejto creado a partir de esta clase\n",
        "# En python, self es una referencia al objeto actual (es decir, a so mismo).\n",
        "# Se utiliza para acceder a los atributos y metodos de la clase desde dentro de la\n",
        "\n",
        "#_init_()es un metodo especial llamado \"constructor\"\n",
        "# Se ejecuta automaticamente cuando se crea una nueva instancia (objeto) de la clase\n",
        "# Sirve para inicializar los atributos del objeto con los valores que se le pasen.\n",
        "\n",
        "class Libro:\n",
        "    def __init__(self, titulo, autor, isbn, precio): # constructor de clase\n",
        "\n",
        "        self.titulo = titulo\n",
        "        self.autor = autor\n",
        "        self.isbn = isbn\n",
        "        self.precio = precio\n",
        "\n",
        "    def mostrar_info(self): #Metodo\n",
        "        return f\"{self.titulo} por {self.autor} - ISBN: {self.isbn}, precio: ${self.precio}\""
      ]
    },
    {
      "cell_type": "code",
      "source": [
        "# Crear una instancia concreta de una clase, con datos especificados\n",
        "\n",
        "libro1 = Libro(\"Cien años de soledad\", \"Gabriel Garcia Marquez\",\n",
        "               \"9780307474728\", 350.00)\n",
        "libro2 = Libro(\"1984\", \"George orwell\", \"9780451524935\", 220.50)"
      ],
      "metadata": {
        "id": "kT4Hkuul-3Oh"
      },
      "execution_count": 8,
      "outputs": []
    },
    {
      "cell_type": "code",
      "source": [
        "print(libro1.mostrar_info())\n",
        "print(libro2.mostrar_info())"
      ],
      "metadata": {
        "colab": {
          "base_uri": "https://localhost:8080/"
        },
        "id": "EVusiRe5CggB",
        "outputId": "fde4a5dc-19c7-4bcc-f44a-5765303a3b6c"
      },
      "execution_count": 3,
      "outputs": [
        {
          "output_type": "stream",
          "name": "stdout",
          "text": [
            "Cien años de soledad por Gabriel Garcia Marquez - ISBN: 9780307474728, precio: $350.0\n",
            "1984 por George orwell - ISBN: 9780451524935, precio: $220.5\n"
          ]
        }
      ]
    },
    {
      "cell_type": "code",
      "source": [
        "class prestamo:\n",
        "       def __init__(self, libro, cliente, fecha_inicio, fecha_de_revu, verificar_estado, renovar_prestamo): # constructor de class\n",
        "        self.libro = libro\n",
        "        self.cliente = cliente\n",
        "        self.fecha_inicio = fecha_inicio\n",
        "        self.verificar_estado = verificar_estado\n",
        "        self.fecha_de_revu = fecha_de_revu\n",
        "        self.renovar_prestamo = renovar_prestamo\n",
        "\n",
        "       def mostrar_info(self):\n",
        "            return f\"{self.libro} por {self.cliente} - ISBN: {self.fecha_inicio}, {self.fecha_de_revu}, precio: ${self.verificar_estado}, {self.renovar_prestamo}\""
      ],
      "metadata": {
        "id": "mbDnvsre-7_u"
      },
      "execution_count": 4,
      "outputs": []
    },
    {
      "cell_type": "code",
      "source": [
        "prestamo1 = prestamo(\"Cien años de soledad\", \"Gabriel Garcia Marquez\", \"18 de agosto\",\"18 de septiembre\", \"false\", \"false\" )"
      ],
      "metadata": {
        "id": "6rloY8PDAiQT"
      },
      "execution_count": 5,
      "outputs": []
    },
    {
      "cell_type": "code",
      "source": [
        "print(prestamo1.mostrar_info())"
      ],
      "metadata": {
        "id": "zyJLgz9aCGZw",
        "colab": {
          "base_uri": "https://localhost:8080/"
        },
        "outputId": "d9567fa0-6ea3-43c3-deaa-984d1f186c42"
      },
      "execution_count": 6,
      "outputs": [
        {
          "output_type": "stream",
          "name": "stdout",
          "text": [
            "Cien años de soledad por Gabriel Garcia Marquez - ISBN: 18 de agosto, 18 de septiembre, precio: $false, false\n"
          ]
        }
      ]
    },
    {
      "cell_type": "code",
      "source": [
        "class venta:\n",
        "       def __init__(self, cliente, libros, total, fecha, calcular_total): # constructor de class\n",
        "        self.cliente = cliente\n",
        "        self.libros = libros\n",
        "        self.total = total\n",
        "        self.fecha = fecha\n",
        "        self.calcular_total = calcular_total\n",
        "\n",
        "       def mostrar_info(self):\n",
        "           return f\"{self.cliente} por {self.libros} - ISBN: {self.total}, {self.fecha}, precio: ${self.calcular_total}\""
      ],
      "metadata": {
        "id": "XdH_eugFgfLE"
      },
      "execution_count": 44,
      "outputs": []
    },
    {
      "cell_type": "code",
      "source": [
        "venta1 = venta(\"Gabriel Garcia Marquez\", [\"Cien años de soledad\"], \"350\", \"28 de marzo\", 400)"
      ],
      "metadata": {
        "id": "NsshoRn4b_aO"
      },
      "execution_count": 45,
      "outputs": []
    },
    {
      "cell_type": "code",
      "source": [
        "print(venta1.mostrar_info())"
      ],
      "metadata": {
        "colab": {
          "base_uri": "https://localhost:8080/"
        },
        "id": "eWRfutPRe06v",
        "outputId": "0189feba-abb7-4a42-93aa-46ad4552cd6f"
      },
      "execution_count": 46,
      "outputs": [
        {
          "output_type": "stream",
          "name": "stdout",
          "text": [
            "Gabriel Garcia Marquez por ['Cien años de soledad'] - ISBN: 350, 28 de marzo, precio: $400\n"
          ]
        }
      ]
    },
    {
      "cell_type": "code",
      "source": [
        "class cliente:\n",
        "       def __init__(self, cliente, email, libro, consultar_historial): # constructor de class\n",
        "        self.cliente = cliente\n",
        "        self.email = email\n",
        "        self.libro = libro\n",
        "        self.consultar_historial = consultar_historial\n",
        "\n",
        "       def mostrar_info(self):\n",
        "           return f\"{self.cliente} por {self.email} - ISBN: {self.libro}, precio: ${self.consultar_historial}\""
      ],
      "metadata": {
        "id": "E8dojhFlglv2"
      },
      "execution_count": 47,
      "outputs": []
    },
    {
      "cell_type": "code",
      "source": [
        "cliente1 = cliente(\"Gabriel Garcia Marquez\", \"GabrielGarcia@gmail.com\", \"Cien años de soledad\", \"false\")"
      ],
      "metadata": {
        "id": "0L6hBen7hLkT"
      },
      "execution_count": 48,
      "outputs": []
    },
    {
      "cell_type": "code",
      "source": [
        "print(cliente1.mostrar_info())"
      ],
      "metadata": {
        "colab": {
          "base_uri": "https://localhost:8080/"
        },
        "id": "SejpFvbXhv6y",
        "outputId": "37080c23-112c-49e0-e2d7-9e4f21e758e3"
      },
      "execution_count": 54,
      "outputs": [
        {
          "output_type": "stream",
          "name": "stdout",
          "text": [
            "Gabriel Garcia Marquez por GabrielGarcia@gmail.com - ISBN: Cien años de soledad, precio: $false\n"
          ]
        }
      ]
    },
    {
      "cell_type": "code",
      "source": [
        "class persona:\n",
        "       def __init__(self, nombre, ): # constructor de class\n",
        "         self.nombre = nombre\n",
        "\n",
        "       def mostrar_info(self):\n",
        "           return f\"{self.nombre}\""
      ],
      "metadata": {
        "id": "XcV-cd1Iii3h"
      },
      "execution_count": 56,
      "outputs": []
    },
    {
      "cell_type": "code",
      "source": [
        "persona1 = persona(\"Gabriel Garcia Marquez\")"
      ],
      "metadata": {
        "id": "N7JrKf1rjU6v"
      },
      "execution_count": 57,
      "outputs": []
    },
    {
      "cell_type": "code",
      "source": [
        "print(persona1.mostrar_info())"
      ],
      "metadata": {
        "colab": {
          "base_uri": "https://localhost:8080/"
        },
        "id": "Gb0bsr-rjY_n",
        "outputId": "50a1428b-77f9-4761-ac5e-57804ef5ae5b"
      },
      "execution_count": 58,
      "outputs": [
        {
          "output_type": "stream",
          "name": "stdout",
          "text": [
            "Gabriel Garcia Marquez\n"
          ]
        }
      ]
    },
    {
      "cell_type": "code",
      "source": [
        "class trabajador:\n",
        "       def __init__(self, puesto, registrar_venra, gestionar_inventario): # constructor de class\n",
        "         self.puesto = puesto\n",
        "         self.registrar_venra = registrar_venra\n",
        "         self.gestionar_inventario = gestionar_inventario\n",
        "\n",
        "       def mostrar_info(self):\n",
        "           return f\"{self.puesto} por {self.registrar_venra} - ISBN: {self.gestionar_inventario}\""
      ],
      "metadata": {
        "id": "Rxnv3xIljdjJ"
      },
      "execution_count": 59,
      "outputs": []
    },
    {
      "cell_type": "code",
      "source": [
        "trabajador1 = trabajador(\"Gabriel Garcia Marquez\", \"false\", \"false\")"
      ],
      "metadata": {
        "id": "wOAbeAIGj1FR"
      },
      "execution_count": 60,
      "outputs": []
    },
    {
      "cell_type": "code",
      "source": [
        "print(trabajador1.mostrar_info())"
      ],
      "metadata": {
        "colab": {
          "base_uri": "https://localhost:8080/"
        },
        "id": "UMo5j98mj3oc",
        "outputId": "ef4a8b78-660e-4edf-c559-ec727f7341fc"
      },
      "execution_count": 61,
      "outputs": [
        {
          "output_type": "stream",
          "name": "stdout",
          "text": [
            "Gabriel Garcia Marquez por false - ISBN: false\n"
          ]
        }
      ]
    }
  ]
}