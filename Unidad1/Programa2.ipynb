{
  "nbformat": 4,
  "nbformat_minor": 0,
  "metadata": {
    "colab": {
      "provenance": [],
      "authorship_tag": "ABX9TyMRavu0aK+6MPTqN3V0q+nR",
      "include_colab_link": true
    },
    "kernelspec": {
      "name": "python3",
      "display_name": "Python 3"
    },
    "language_info": {
      "name": "python"
    }
  },
  "cells": [
    {
      "cell_type": "markdown",
      "metadata": {
        "id": "view-in-github",
        "colab_type": "text"
      },
      "source": [
        "<a href=\"https://colab.research.google.com/github/25040145/Programacion_OO/blob/main/Unidad1/Programa2.ipynb\" target=\"_parent\"><img src=\"https://colab.research.google.com/assets/colab-badge.svg\" alt=\"Open In Colab\"/></a>"
      ]
    },
    {
      "cell_type": "code",
      "execution_count": null,
      "metadata": {
        "id": "wm8hAhwpgUcQ"
      },
      "outputs": [],
      "source": [
        "# Definir una clase libro\n",
        "# Cada obejto creado a partir de esta clase\n",
        "# En python, self es una referencia al objeto actual (es decir, a so mismo).\n",
        "# Se utiliza para acceder a los atributos y metodos de la clase desde dentro de la\n",
        "\n",
        "#_init_()es un metodo especial llamado \"constructor\"\n",
        "# Se ejecuta automaticamente cuando se crea una nueva instancia (objeto) de la clase\n",
        "# Sirve para inicializar los atributos del objeto con los valores que se le pasen.\n",
        "\n",
        "class Libro:\n",
        "    def __init__(self, titulo, autor, isbn, precio): # constructor de clase\n",
        "\n",
        "        self.titulo = titulo\n",
        "        self.autor = autor\n",
        "        self.isbn = isbn\n",
        "        self.precio = precio\n",
        "\n",
        "    def mostrar_info(self): #Metodo\n",
        "        return f\"{self.titulo} por {self.autor} - ISBN: {self.isbn}, precio: ${self.precio}\""
      ]
    },
    {
      "cell_type": "code",
      "source": [
        "# Crear una instancia concreta de una clase, con datos especificados\n",
        "\n",
        "libro1 = Libro(\"Cien años de soledad\", \"Gabriel Garcia Marquez\",\n",
        "               \"9780307474728\", 350.00)\n",
        "libro2 = Libro(\"1984\", \"George orwell\", \"9780451524935\", 220.50)"
      ],
      "metadata": {
        "id": "5W7OgsjojvLc"
      },
      "execution_count": null,
      "outputs": []
    },
    {
      "cell_type": "code",
      "source": [
        "print(libro1.mostrar_info())\n",
        "print(libro2.mostrar_info())"
      ],
      "metadata": {
        "colab": {
          "base_uri": "https://localhost:8080/"
        },
        "id": "w0K7POETlKId",
        "outputId": "b5ce2bb6-cb7b-4209-d683-760305dade7f"
      },
      "execution_count": null,
      "outputs": [
        {
          "output_type": "stream",
          "name": "stdout",
          "text": [
            "Cien años de soledad por Gabriel Garcia Marquez - ISBN: 9780307474728, precio: $350.0\n",
            "1984 por George orwell - ISBN: 9780451524935, precio: $220.5\n"
          ]
        }
      ]
    }
  ]
}