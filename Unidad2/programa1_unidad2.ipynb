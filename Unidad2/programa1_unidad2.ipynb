{
  "nbformat": 4,
  "nbformat_minor": 0,
  "metadata": {
    "colab": {
      "provenance": [],
      "authorship_tag": "ABX9TyN8QUKZjSdZ5xzGWIFhVSvz",
      "include_colab_link": true
    },
    "kernelspec": {
      "name": "python3",
      "display_name": "Python 3"
    },
    "language_info": {
      "name": "python"
    }
  },
  "cells": [
    {
      "cell_type": "markdown",
      "metadata": {
        "id": "view-in-github",
        "colab_type": "text"
      },
      "source": [
        "<a href=\"https://colab.research.google.com/github/25040145/Programacion_OO/blob/main/Unidad2/programa1_unidad2.ipynb\" target=\"_parent\"><img src=\"https://colab.research.google.com/assets/colab-badge.svg\" alt=\"Open In Colab\"/></a>"
      ]
    },
    {
      "cell_type": "code",
      "execution_count": 2,
      "metadata": {
        "id": "wO2xTAkd4r6Y"
      },
      "outputs": [],
      "source": [
        "class libro:\n",
        "    def __init__(self, isbn, titulo, autor, categoria, precio):\n",
        "        self.isbn = isbn\n",
        "        self.titulo = titulo\n",
        "        self.autor = autor\n",
        "        self.precio = precio\n",
        "        self.categoria = categoria\n",
        "        self.prestamo = False\n",
        "    def mostrar(self):\n",
        "       estado = \"Prestamo\" if self.prestamo else \"Disponible\"\n",
        "       print(f\"ISBN: {self.isbn}, Titulo: {self.titulo}, Autor: {self.autor}, Categoria: {self.categoria}, Precio: {self.precio}, Estado: {estado}\")"
      ]
    },
    {
      "cell_type": "code",
      "source": [
        "class Estudiante:\n",
        "    def __init__(self, num_control, nombre, carrera, fecha_nacimineto, telefono, correo):\n",
        "        self.num_control = num_control\n",
        "        self.nombre = nombre\n",
        "        self.carrera = carrera\n",
        "        self.fecha_nacimiento = fecha_nacimineto\n",
        "        self.telefono = telefono\n",
        "        self.correo = correo\n",
        "    def mostrar(self):\n",
        "       print(f\"Numero de Control: {self.num_control}, Nombre: {self.nombre}, Carrera: {self.carrera}, Fecha de Nacimiento: {self.fecha_nacimiento}, Telefono: {self.telefono}, Correo: {self.correo}\")"
      ],
      "metadata": {
        "id": "0sFelxec6xlg"
      },
      "execution_count": 3,
      "outputs": []
    },
    {
      "cell_type": "code",
      "source": [
        "class Prestamo:\n",
        "    contador_prestamos = 1\n",
        "\n",
        "    def __init__(self, num_control, isbn, fecha_inicio, fecha_termino):\n",
        "        self.id_prestamo = Prestamo.contador_prestamos\n",
        "        Prestamo.contador_prestamos += 1\n",
        "        self.num_control = num_control\n",
        "        self.isbn = isbn\n",
        "    def mostrar(self):\n",
        "       print(f\"Folio: {self.folio}\")"
      ],
      "metadata": {
        "id": "3OQksFoE8C3C"
      },
      "execution_count": 1,
      "outputs": []
    },
    {
      "cell_type": "code",
      "source": [
        "class Venta:\n",
        "    contador_ventas = 1\n",
        "\n",
        "    def _init_(self, isbn, num_control, fecha, cantidad, importe):\n",
        "        self.folio_venta = Venta.contador_ventas\n",
        "        Venta.contador_ventas += 1\n",
        "        self.isbn = isbn\n",
        "        self.num_control = num_control\n",
        "        self.fecha = fecha\n",
        "        self.cantidad = cantidad\n",
        "        self.importe = importe\n",
        "\n",
        "    def mostrar_info(self):\n",
        "        print(f\"Folio: {self.folio_venta}  ISBN: {self.isbn}  Comprador: {self.num_control}  Fecha: {self.fecha}  Cantidad: {self.cantidad}  Importe: ${self.importe}\")"
      ],
      "metadata": {
        "id": "ti_pmCSW6CDm"
      },
      "execution_count": 5,
      "outputs": []
    },
    {
      "cell_type": "code",
      "source": [
        "def mostrar_menu():\n",
        "    print(\"\\n--- SISTEMA DE LIBRERIA ESCOLAR ---\")\n",
        "    print(\"1. Dar de alta libro\")\n",
        "    print(\"2. Dar de alta estudiante\")\n",
        "    print(\"3. Consultar libro por ISBN\")\n",
        "    print(\"4. Consultar estudiante por numero de control\")\n",
        "    print(\"5. Mostrar todos los libros\")\n",
        "    print(\"6. Mostrar todos los estudiantes\")\n",
        "    print(\"7. Realizar prestamo\")\n",
        "    print(\"8. Salir del sistema\")\n",
        "    print(\"9. Mostrar lista de prestamos\")\n",
        "    print(\"10. Devolver libro\")\n",
        "    print(\"11. Mostrar historial de ventas\")\n",
        "    print(\"12. Registrar venta\")"
      ],
      "metadata": {
        "id": "xDV-WRqN6RgQ"
      },
      "execution_count": 6,
      "outputs": []
    },
    {
      "cell_type": "code",
      "source": [
        "def alta_libro():\n",
        "    print(\"\\n--- Alta de Libro ---\")\n",
        "    isbn = input(\"ISBN: \")\n",
        "    for libro in libros:\n",
        "        if libro.isbn == isbn:\n",
        "            print(\"Ya existe un libro con ese ISBN!\")\n",
        "            return\n",
        "    titulo = input(\"Titulo: \")\n",
        "    autor = input(\"Autor: \")\n",
        "    categoria = input(\"Categoria: \")\n",
        "    try:\n",
        "        precio = float(input(\"Precio: \"))\n",
        "    except ValueError:\n",
        "        print(\"Precio invalido.\")\n",
        "        return\n",
        "\n",
        "    nuevo_libro = Libro(isbn, titulo, autor, categoria, precio)\n",
        "    libros.append(nuevo_libro)\n",
        "    print(\"Libro registrado exitosamente.\")"
      ],
      "metadata": {
        "id": "CxTlno-A6Zrs"
      },
      "execution_count": 7,
      "outputs": []
    }
  ]
}