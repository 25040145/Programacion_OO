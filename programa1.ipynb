{
  "nbformat": 4,
  "nbformat_minor": 0,
  "metadata": {
    "colab": {
      "provenance": [],
      "authorship_tag": "ABX9TyPV4ZuzSAOdERVz8KgLysgX",
      "include_colab_link": true
    },
    "kernelspec": {
      "name": "python3",
      "display_name": "Python 3"
    },
    "language_info": {
      "name": "python"
    }
  },
  "cells": [
    {
      "cell_type": "markdown",
      "metadata": {
        "id": "view-in-github",
        "colab_type": "text"
      },
      "source": [
        "<a href=\"https://colab.research.google.com/github/25040145/Programacion_OO/blob/main/programa1.ipynb\" target=\"_parent\"><img src=\"https://colab.research.google.com/assets/colab-badge.svg\" alt=\"Open In Colab\"/></a>"
      ]
    },
    {
      "cell_type": "code",
      "execution_count": null,
      "metadata": {
        "colab": {
          "base_uri": "https://localhost:8080/"
        },
        "id": "UYJrWzlGOWQR",
        "outputId": "5fa44816-3cd9-4d8e-a15e-347d5293efd3"
      },
      "outputs": [
        {
          "output_type": "stream",
          "name": "stdout",
          "text": [
            "Escribir tu nombre: Andree\n",
            "Tu nombre es:  Andree\n"
          ]
        }
      ],
      "source": [
        "variable = input(\"Escribir tu nombre: \")\n",
        "print(\"Tu nombre es: \", variable)"
      ]
    },
    {
      "cell_type": "code",
      "source": [
        "nom = input(\"¿Me puedes dar tu nombre por favor?\")\n",
        "ape = input(\"¿Me puedes dar tu apellido por favor?\")\n",
        "print(\"Gracias\")\n",
        "print(\"/nTu nombre es:\" + nom + ape + \".\")"
      ],
      "metadata": {
        "colab": {
          "base_uri": "https://localhost:8080/"
        },
        "id": "m1DPBmhQOlfz",
        "outputId": "f565bd63-18c7-4fa0-88d2-9d785eba5873"
      },
      "execution_count": null,
      "outputs": [
        {
          "output_type": "stream",
          "name": "stdout",
          "text": [
            "¿Me puedes dar tu nombre por favor?Andree\n",
            "¿Me puedes dar tu apellido por favor?Moreno\n",
            "Gracias\n",
            "/nTu nombre es:AndreeMoreno.\n"
          ]
        }
      ]
    },
    {
      "cell_type": "code",
      "source": [
        "# Marcar error porque se debe convertir el tipo de dato\n",
        "x = int(input(\"Dame un numero para multiplicar:\"))\n",
        "z = x * 5\n",
        "print(z)"
      ],
      "metadata": {
        "colab": {
          "base_uri": "https://localhost:8080/"
        },
        "id": "enVcIjtpOsCi",
        "outputId": "7e7d5630-d313-4deb-8ddf-6aafdce4a3cc"
      },
      "execution_count": null,
      "outputs": [
        {
          "output_type": "stream",
          "name": "stdout",
          "text": [
            "Dame un numero para multiplicar:8\n",
            "40\n"
          ]
        }
      ]
    },
    {
      "cell_type": "code",
      "source": [
        "cateto_a = float(input(\"inserte la longitud del primer cateto:\"))\n",
        "cateto_b = float(input(\"inserte la longitud del segundo cateto:\"))\n",
        "hipo = (cateto_a**2 + cateto_b**2) ** .5\n",
        "print(\"La longitud de la hipotenusa es:\", hipo)"
      ],
      "metadata": {
        "colab": {
          "base_uri": "https://localhost:8080/"
        },
        "id": "HBeGuohaOzmN",
        "outputId": "50149b0b-57f0-4f03-d690-b0b1951e5ab3"
      },
      "execution_count": null,
      "outputs": [
        {
          "output_type": "stream",
          "name": "stdout",
          "text": [
            "inserte la longitud del primer cateto:10\n",
            "inserte la longitud del segundo cateto:5\n",
            "La longitud de la hipotenusa es: 11.180339887498949\n"
          ]
        }
      ]
    },
    {
      "cell_type": "code",
      "source": [
        "# Mas de una lnea en un bloque de codigo\n",
        "a = 3000\n",
        "b = 12500\n",
        "if b > a:\n",
        "    print(\"b es mayor que a:\")\n",
        "    print(b, \"es mayor que\", a)\n",
        "else:\n",
        "    print(\"a es mayor que b\")\n",
        "    print(a, \"es mayor que\", b)\n",
        "print(\"Fin del if\")"
      ],
      "metadata": {
        "colab": {
          "base_uri": "https://localhost:8080/"
        },
        "id": "01CF7OJYO7rA",
        "outputId": "b1f2d32c-95ab-404c-bb6f-8fd6bb8e6693"
      },
      "execution_count": null,
      "outputs": [
        {
          "output_type": "stream",
          "name": "stdout",
          "text": [
            "b es mayor que a:\n",
            "12500 es mayor que 3000\n",
            "Fin del if\n"
          ]
        }
      ]
    },
    {
      "cell_type": "code",
      "source": [
        "# Mas de una lnea en un bloque de codigo\n",
        "a = 3000\n",
        "b = 3000\n",
        "if b > a:\n",
        "    print(\"b es mayor que a:\")\n",
        "    print(\"b vale =>\", b)\n",
        "elif\n",
        "    print(\"a es igual que b\")\n",
        "    print(\"a y b valen =>\", a)\n",
        "else:\n",
        "    print(\"a es mayor que b\")\n",
        "    print(\"a vale =>\", a)\n",
        "print(\"Fin del if\")"
      ],
      "metadata": {
        "id": "yndH9OCIPAW-"
      },
      "execution_count": null,
      "outputs": []
    },
    {
      "cell_type": "code",
      "source": [
        "# if y if.. else en version corta  o simplificada\n",
        "# del lado izquierdo es cuando es verdadera la condicion\n",
        "x = 50\n",
        "y = 60\n",
        "\n",
        "print(\"x es mayor que y\") if (x > y) else print(\"y es mayor que x\")"
      ],
      "metadata": {
        "colab": {
          "base_uri": "https://localhost:8080/"
        },
        "id": "hbpAjYstPIEL",
        "outputId": "625c4e85-8228-4833-a189-b4d625cfbc84"
      },
      "execution_count": null,
      "outputs": [
        {
          "output_type": "stream",
          "name": "stdout",
          "text": [
            "y es mayor que x\n"
          ]
        }
      ]
    },
    {
      "cell_type": "code",
      "source": [
        "i = 1\n",
        "while i <= 10:\n",
        "     print(i)\n",
        "     i +=1\n",
        "print(\"fuera del while\")"
      ],
      "metadata": {
        "colab": {
          "base_uri": "https://localhost:8080/"
        },
        "id": "VEDDdN5sPMSz",
        "outputId": "6f621989-40cc-41a6-863c-1994c43f5bfb"
      },
      "execution_count": null,
      "outputs": [
        {
          "output_type": "stream",
          "name": "stdout",
          "text": [
            "1\n",
            "2\n",
            "3\n",
            "4\n",
            "5\n",
            "6\n",
            "7\n",
            "8\n",
            "9\n",
            "10\n",
            "fuera del while\n"
          ]
        }
      ]
    },
    {
      "cell_type": "code",
      "source": [
        "# copiamos el ejemplo anterior para poner contexto BREAK\n",
        "# Agregamos una condicion para que se saga del ciclo cuando cumpla un criterio\n",
        "i = 1\n",
        "while i <=1000:\n",
        "     print(i)\n",
        "     if i == 10:\n",
        "         print(\"Entro al if\")\n",
        "         break\n",
        "     i += 1\n",
        "print(\"Fuera del while\")"
      ],
      "metadata": {
        "id": "RLAPW3wOPP3a",
        "colab": {
          "base_uri": "https://localhost:8080/"
        },
        "outputId": "fc3ddc8e-030a-4ad1-a583-925a98147aa6"
      },
      "execution_count": 3,
      "outputs": [
        {
          "output_type": "stream",
          "name": "stdout",
          "text": [
            "1\n",
            "2\n",
            "3\n",
            "4\n",
            "5\n",
            "6\n",
            "7\n",
            "8\n",
            "9\n",
            "10\n",
            "Entro al if\n",
            "Fuera del while\n"
          ]
        }
      ]
    },
    {
      "cell_type": "code",
      "source": [
        "while(True):\n",
        "     print(\"\"\"selecciona una opcion\n",
        "     1) opcion 1\n",
        "     2) opcion 2\n",
        "     3) Salir\"\"\")\n",
        "     opcion = input(\"¿Cual es la opcion que deseas?\")\n",
        "     if opcion == \"1\":\n",
        "         print(\"Seleccionaste la opcion 1 \\n\")\n",
        "     elif opcion == \"2\":\n",
        "         print(\"Seleccionaste la opcion salir\")\n",
        "\n",
        "     elif opcion == \"3\":\n",
        "         break\n",
        "     else:\n",
        "         print(\"opcion desconocida, vuelve a intentarlo\")\n",
        "print(\"Fuera del ciclo\")\n"
      ],
      "metadata": {
        "id": "njXuVn1pPTGO",
        "colab": {
          "base_uri": "https://localhost:8080/"
        },
        "outputId": "a1ae079d-4e71-4ee5-9d72-9769f46764db"
      },
      "execution_count": 1,
      "outputs": [
        {
          "output_type": "stream",
          "name": "stdout",
          "text": [
            "selecciona una opcion\n",
            "     1) opcion 1\n",
            "     2) opcion 2\n",
            "     3) Salir\n",
            "¿Cual es la opcion que deseas?1\n",
            "Seleccionaste la opcion 1 \n",
            "\n",
            "selecciona una opcion\n",
            "     1) opcion 1\n",
            "     2) opcion 2\n",
            "     3) Salir\n",
            "¿Cual es la opcion que deseas?2\n",
            "Seleccionaste la opcion salir\n",
            "selecciona una opcion\n",
            "     1) opcion 1\n",
            "     2) opcion 2\n",
            "     3) Salir\n",
            "¿Cual es la opcion que deseas?3\n",
            "Fuera del ciclo\n"
          ]
        }
      ]
    },
    {
      "cell_type": "code",
      "source": [
        "# Si no se especifica un rango inicial or default empieza en cero\n",
        "# cuando se establece el limite o rango final siempre sera valor menos 1\n",
        "for x in range(5):\n",
        "    print(x)"
      ],
      "metadata": {
        "colab": {
          "base_uri": "https://localhost:8080/"
        },
        "id": "21YFsoCvungQ",
        "outputId": "0549ccf7-168b-444d-fb8b-5d1142bb67da"
      },
      "execution_count": 4,
      "outputs": [
        {
          "output_type": "stream",
          "name": "stdout",
          "text": [
            "0\n",
            "1\n",
            "2\n",
            "3\n",
            "4\n"
          ]
        }
      ]
    },
    {
      "cell_type": "code",
      "source": [
        "for z in range(2, 5):\n",
        "  print(z)"
      ],
      "metadata": {
        "colab": {
          "base_uri": "https://localhost:8080/"
        },
        "id": "10F8UMsPvPeL",
        "outputId": "91e900da-c6c4-4eac-a856-a8ddab09e4a0"
      },
      "execution_count": 10,
      "outputs": [
        {
          "output_type": "stream",
          "name": "stdout",
          "text": [
            "2\n",
            "3\n",
            "4\n"
          ]
        }
      ]
    },
    {
      "cell_type": "code",
      "source": [
        "# Tercer parametro para el incremento\n",
        "for z in range(1, 25, 2):\n",
        "    print(z)"
      ],
      "metadata": {
        "colab": {
          "base_uri": "https://localhost:8080/"
        },
        "id": "f_CnV8TSvxZ5",
        "outputId": "372f49e9-2b89-484c-b973-4929896dd9a7"
      },
      "execution_count": 11,
      "outputs": [
        {
          "output_type": "stream",
          "name": "stdout",
          "text": [
            "1\n",
            "3\n",
            "5\n",
            "7\n",
            "9\n",
            "11\n",
            "13\n",
            "15\n",
            "17\n",
            "19\n",
            "21\n",
            "23\n"
          ]
        }
      ]
    },
    {
      "cell_type": "code",
      "source": [
        "print(\"La instruccion break\")\n",
        "variablez = True # variable de tipo Booleana\n",
        "for i in range(1, 6):\n",
        "    print(\"Esto es un print dentro del for\")\n",
        "    if variablez:\n",
        "       print(\"Entro al if\")\n",
        "       break\n",
        "print(\"Fuera del for\")"
      ],
      "metadata": {
        "colab": {
          "base_uri": "https://localhost:8080/"
        },
        "id": "JipMTxSvwodm",
        "outputId": "b0d7f091-b72b-4a02-b0f8-c45852a482b8"
      },
      "execution_count": 12,
      "outputs": [
        {
          "output_type": "stream",
          "name": "stdout",
          "text": [
            "La instruccion break\n",
            "Esto es un print dentro del for\n",
            "Entro al if\n",
            "Fuera del for\n"
          ]
        }
      ]
    },
    {
      "cell_type": "code",
      "source": [
        "#Continue - ejemplo\n",
        "print(\"\\n La instruccion continue:\")\n",
        "for i in range(1, 6):\n",
        "    if i == 3:\n",
        "       continue\n",
        "    print(\"Dentro del bucle.\", i)\n",
        "print(\"Fuera del bucle.\")"
      ],
      "metadata": {
        "colab": {
          "base_uri": "https://localhost:8080/"
        },
        "id": "qo9LFTuzxPwD",
        "outputId": "37d7816c-9134-4962-875a-99e0f66bb6af"
      },
      "execution_count": 14,
      "outputs": [
        {
          "output_type": "stream",
          "name": "stdout",
          "text": [
            "\n",
            " La instruccion continue:\n",
            "Dentro del bucle. 1\n",
            "Dentro del bucle. 2\n",
            "Dentro del bucle. 4\n",
            "Dentro del bucle. 5\n",
            "Fuera del bucle.\n"
          ]
        }
      ]
    },
    {
      "cell_type": "code",
      "source": [
        "frutas = [\"platano\", \"naranja\", \"manzana\"]\n",
        "for x in frutas:\n",
        "    print(x)\n",
        "    if x == \"naranja\":\n",
        "       break"
      ],
      "metadata": {
        "colab": {
          "base_uri": "https://localhost:8080/"
        },
        "id": "3WVt3I04zd7M",
        "outputId": "cc2e8c6d-20ea-49a5-d09f-d1001d660033"
      },
      "execution_count": 20,
      "outputs": [
        {
          "output_type": "stream",
          "name": "stdout",
          "text": [
            "platano\n",
            "naranja\n"
          ]
        }
      ]
    },
    {
      "cell_type": "code",
      "source": [
        "n = 0\n",
        "while n != 3:\n",
        "   print(n)\n",
        "   n += 1\n",
        "else:\n",
        "   print(n, \"else\")\n",
        "print() # Para generar una linea en blanco\n",
        "for i in range(0, 3):\n",
        "    print(i)\n",
        "else:\n",
        "    print(i, \"else\")"
      ],
      "metadata": {
        "colab": {
          "base_uri": "https://localhost:8080/"
        },
        "id": "7tjVppfH0Vme",
        "outputId": "3af208b8-1814-4c6e-a8fd-d2760bbb2857"
      },
      "execution_count": 21,
      "outputs": [
        {
          "output_type": "stream",
          "name": "stdout",
          "text": [
            "0\n",
            "1\n",
            "2\n",
            "3 else\n",
            "\n",
            "0\n",
            "1\n",
            "2\n",
            "2 else\n"
          ]
        }
      ]
    },
    {
      "cell_type": "code",
      "source": [
        "def funcion_saludar():\n",
        "    print(\"Hola mundo, desde mi funcion\")"
      ],
      "metadata": {
        "id": "KNvmOceP2PsM"
      },
      "execution_count": 27,
      "outputs": []
    },
    {
      "cell_type": "code",
      "source": [
        "funcion_saludar()"
      ],
      "metadata": {
        "colab": {
          "base_uri": "https://localhost:8080/",
          "height": 104
        },
        "id": "iQyatIWM3_17",
        "outputId": "3eadb321-1568-4ff8-e0ec-1b646308d65b"
      },
      "execution_count": 28,
      "outputs": [
        {
          "output_type": "execute_result",
          "data": {
            "text/plain": [
              "<function __main__.funcion_saludar()>"
            ],
            "text/html": [
              "<div style=\"max-width:800px; border: 1px solid var(--colab-border-color);\"><style>\n",
              "      pre.function-repr-contents {\n",
              "        overflow-x: auto;\n",
              "        padding: 8px 12px;\n",
              "        max-height: 500px;\n",
              "      }\n",
              "\n",
              "      pre.function-repr-contents.function-repr-contents-collapsed {\n",
              "        cursor: pointer;\n",
              "        max-height: 100px;\n",
              "      }\n",
              "    </style>\n",
              "    <pre style=\"white-space: initial; background:\n",
              "         var(--colab-secondary-surface-color); padding: 8px 12px;\n",
              "         border-bottom: 1px solid var(--colab-border-color);\"><b>funcion_saludar</b><br/>def funcion_saludar()</pre><pre class=\"function-repr-contents function-repr-contents-collapsed\" style=\"\"><a class=\"filepath\" style=\"display:none\" href=\"#\">/tmp/ipython-input-4288720334.py</a>&lt;no docstring&gt;</pre></div>"
            ]
          },
          "metadata": {},
          "execution_count": 28
        }
      ]
    },
    {
      "cell_type": "code",
      "source": [
        "# Parametros en funciones\n",
        "def tablas_multiplicar(x):\n",
        "    for z in range (1, 11):\n",
        "        print(x, \"por\", z, \"=\", x * z)\n",
        "    print(\"\\n fin de la funcion\")"
      ],
      "metadata": {
        "id": "dOdjYrll25xy"
      },
      "execution_count": 25,
      "outputs": []
    },
    {
      "cell_type": "code",
      "source": [
        "tablas_multiplicar(5)"
      ],
      "metadata": {
        "colab": {
          "base_uri": "https://localhost:8080/"
        },
        "id": "EBYh205A30CB",
        "outputId": "65aa8e0d-5165-4a5f-f8d0-b4001c74bd19"
      },
      "execution_count": 26,
      "outputs": [
        {
          "output_type": "stream",
          "name": "stdout",
          "text": [
            "5 por 1 = 5\n",
            "5 por 2 = 10\n",
            "5 por 3 = 15\n",
            "5 por 4 = 20\n",
            "5 por 5 = 25\n",
            "5 por 6 = 30\n",
            "5 por 7 = 35\n",
            "5 por 8 = 40\n",
            "5 por 9 = 45\n",
            "5 por 10 = 50\n",
            "\n",
            " fin de la funcion\n"
          ]
        }
      ]
    }
  ]
}