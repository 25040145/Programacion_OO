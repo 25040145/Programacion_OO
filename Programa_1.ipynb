{
  "nbformat": 4,
  "nbformat_minor": 0,
  "metadata": {
    "colab": {
      "provenance": [],
      "authorship_tag": "ABX9TyMuhYo4fjWRa2sRKflaPBlz",
      "include_colab_link": true
    },
    "kernelspec": {
      "name": "python3",
      "display_name": "Python 3"
    },
    "language_info": {
      "name": "python"
    }
  },
  "cells": [
    {
      "cell_type": "markdown",
      "metadata": {
        "id": "view-in-github",
        "colab_type": "text"
      },
      "source": [
        "<a href=\"https://colab.research.google.com/github/25040145/Programacion_OO/blob/main/Programa_1.ipynb\" target=\"_parent\"><img src=\"https://colab.research.google.com/assets/colab-badge.svg\" alt=\"Open In Colab\"/></a>"
      ]
    },
    {
      "cell_type": "code",
      "execution_count": 1,
      "metadata": {
        "colab": {
          "base_uri": "https://localhost:8080/"
        },
        "id": "MShgpMwMwmey",
        "outputId": "10cdf44a-54a5-4256-d0d0-2e134095a474"
      },
      "outputs": [
        {
          "output_type": "stream",
          "name": "stdout",
          "text": [
            "Escribir tu nombre: Andree\n",
            "Tu nombre es:  Andree\n"
          ]
        }
      ],
      "source": [
        "variable = input(\"Escribir tu nombre: \")\n",
        "print(\"Tu nombre es: \", variable)"
      ]
    },
    {
      "cell_type": "code",
      "source": [
        "nom = input(\"¿Me puedes dar tu nombre por favor?\")\n",
        "ape = input(\"¿Me puedes dar tu apellido por favor?\")\n",
        "print(\"Gracias\")\n",
        "print(\"/nTu nombre es:\" + nom + ape + \".\")"
      ],
      "metadata": {
        "colab": {
          "base_uri": "https://localhost:8080/"
        },
        "id": "a4hT2E_ox4VX",
        "outputId": "be5d74d1-307f-43bb-9bf8-bf900adac3ae"
      },
      "execution_count": 2,
      "outputs": [
        {
          "output_type": "stream",
          "name": "stdout",
          "text": [
            "¿Me puedes dar tu nombre por favor?Andree\n",
            "¿Me puedes dar tu apellido por favor?Moreno\n",
            "Gracias\n",
            "/nTu nombre es:AndreeMoreno.\n"
          ]
        }
      ]
    },
    {
      "cell_type": "code",
      "source": [
        "# Marcar error porque se debe convertir el tipo de dato\n",
        "x = int(input(\"Dame un numero para multiplicar:\"))\n",
        "z = x * 5\n",
        "print(z)"
      ],
      "metadata": {
        "colab": {
          "base_uri": "https://localhost:8080/"
        },
        "id": "DgZKmHoXyu8O",
        "outputId": "8373e5b5-bac3-49d9-85cd-4dc7bc4badfb"
      },
      "execution_count": 3,
      "outputs": [
        {
          "output_type": "stream",
          "name": "stdout",
          "text": [
            "Dame un numero para multiplicar:8\n",
            "40\n"
          ]
        }
      ]
    },
    {
      "cell_type": "code",
      "source": [
        "cateto_a = float(input(\"inserte la longitud del primer cateto:\"))\n",
        "cateto_b = float(input(\"inserte la longitud del segundo cateto:\"))\n",
        "hipo = (cateto_a**2 + cateto_b**2) ** .5\n",
        "print(\"La longitud de la hipotenusa es:\", hipo)"
      ],
      "metadata": {
        "colab": {
          "base_uri": "https://localhost:8080/"
        },
        "id": "SsVXMoKRzKZP",
        "outputId": "101f975e-6042-4c62-80b3-becea8c1a1c5"
      },
      "execution_count": 4,
      "outputs": [
        {
          "output_type": "stream",
          "name": "stdout",
          "text": [
            "inserte la longitud del primer cateto:10\n",
            "inserte la longitud del segundo cateto:5\n",
            "La longitud de la hipotenusa es: 11.180339887498949\n"
          ]
        }
      ]
    },
    {
      "cell_type": "code",
      "source": [
        "#\n",
        "a = 3000\n",
        "b = 12500\n",
        "if b > a:\n",
        "    print(\"b es mayor que a:\")\n",
        "else:\n",
        "    print(\"a es mayor que b\")\n",
        "\n",
        "print(\"Fin del if\")"
      ],
      "metadata": {
        "colab": {
          "base_uri": "https://localhost:8080/"
        },
        "collapsed": true,
        "id": "YBgM0Lnkz0jq",
        "outputId": "a6954c47-4a8c-4e87-b386-95f903ec5302"
      },
      "execution_count": 7,
      "outputs": [
        {
          "output_type": "stream",
          "name": "stdout",
          "text": [
            "b es mayor que a:\n",
            "Fin del if\n"
          ]
        }
      ]
    }
  ]
}