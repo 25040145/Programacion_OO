{
  "nbformat": 4,
  "nbformat_minor": 0,
  "metadata": {
    "colab": {
      "provenance": [],
      "authorship_tag": "ABX9TyMyMWs/sqC3tT00DOA1w9Ae",
      "include_colab_link": true
    },
    "kernelspec": {
      "name": "python3",
      "display_name": "Python 3"
    },
    "language_info": {
      "name": "python"
    }
  },
  "cells": [
    {
      "cell_type": "markdown",
      "metadata": {
        "id": "view-in-github",
        "colab_type": "text"
      },
      "source": [
        "<a href=\"https://colab.research.google.com/github/25040145/Programacion_OO/blob/main/Programa_1.ipynb\" target=\"_parent\"><img src=\"https://colab.research.google.com/assets/colab-badge.svg\" alt=\"Open In Colab\"/></a>"
      ]
    },
    {
      "cell_type": "code",
      "execution_count": null,
      "metadata": {
        "colab": {
          "base_uri": "https://localhost:8080/"
        },
        "id": "MShgpMwMwmey",
        "outputId": "10cdf44a-54a5-4256-d0d0-2e134095a474"
      },
      "outputs": [
        {
          "output_type": "stream",
          "name": "stdout",
          "text": [
            "Escribir tu nombre: Andree\n",
            "Tu nombre es:  Andree\n"
          ]
        }
      ],
      "source": [
        "variable = input(\"Escribir tu nombre: \")\n",
        "print(\"Tu nombre es: \", variable)"
      ]
    },
    {
      "cell_type": "code",
      "source": [
        "nom = input(\"¿Me puedes dar tu nombre por favor?\")\n",
        "ape = input(\"¿Me puedes dar tu apellido por favor?\")\n",
        "print(\"Gracias\")\n",
        "print(\"/nTu nombre es:\" + nom + ape + \".\")"
      ],
      "metadata": {
        "colab": {
          "base_uri": "https://localhost:8080/"
        },
        "id": "a4hT2E_ox4VX",
        "outputId": "be5d74d1-307f-43bb-9bf8-bf900adac3ae"
      },
      "execution_count": null,
      "outputs": [
        {
          "output_type": "stream",
          "name": "stdout",
          "text": [
            "¿Me puedes dar tu nombre por favor?Andree\n",
            "¿Me puedes dar tu apellido por favor?Moreno\n",
            "Gracias\n",
            "/nTu nombre es:AndreeMoreno.\n"
          ]
        }
      ]
    },
    {
      "cell_type": "code",
      "source": [
        "# Marcar error porque se debe convertir el tipo de dato\n",
        "x = int(input(\"Dame un numero para multiplicar:\"))\n",
        "z = x * 5\n",
        "print(z)"
      ],
      "metadata": {
        "colab": {
          "base_uri": "https://localhost:8080/"
        },
        "id": "DgZKmHoXyu8O",
        "outputId": "8373e5b5-bac3-49d9-85cd-4dc7bc4badfb"
      },
      "execution_count": null,
      "outputs": [
        {
          "output_type": "stream",
          "name": "stdout",
          "text": [
            "Dame un numero para multiplicar:8\n",
            "40\n"
          ]
        }
      ]
    },
    {
      "cell_type": "code",
      "source": [
        "cateto_a = float(input(\"inserte la longitud del primer cateto:\"))\n",
        "cateto_b = float(input(\"inserte la longitud del segundo cateto:\"))\n",
        "hipo = (cateto_a**2 + cateto_b**2) ** .5\n",
        "print(\"La longitud de la hipotenusa es:\", hipo)"
      ],
      "metadata": {
        "colab": {
          "base_uri": "https://localhost:8080/"
        },
        "id": "SsVXMoKRzKZP",
        "outputId": "101f975e-6042-4c62-80b3-becea8c1a1c5"
      },
      "execution_count": null,
      "outputs": [
        {
          "output_type": "stream",
          "name": "stdout",
          "text": [
            "inserte la longitud del primer cateto:10\n",
            "inserte la longitud del segundo cateto:5\n",
            "La longitud de la hipotenusa es: 11.180339887498949\n"
          ]
        }
      ]
    },
    {
      "cell_type": "code",
      "source": [
        "# Mas de una lnea en un bloque de codigo\n",
        "a = 3000\n",
        "b = 12500\n",
        "if b > a:\n",
        "    print(\"b es mayor que a:\")\n",
        "    print(b, \"es mayor que\", a)\n",
        "else:\n",
        "    print(\"a es mayor que b\")\n",
        "    print(a, \"es mayor que\", b)\n",
        "print(\"Fin del if\")"
      ],
      "metadata": {
        "colab": {
          "base_uri": "https://localhost:8080/"
        },
        "id": "YBgM0Lnkz0jq",
        "outputId": "1ae8a754-9102-4608-aa66-8e9439930fec"
      },
      "execution_count": 1,
      "outputs": [
        {
          "output_type": "stream",
          "name": "stdout",
          "text": [
            "b es mayor que a:\n",
            "12500 es mayor que 3000\n",
            "Fin del if\n"
          ]
        }
      ]
    },
    {
      "cell_type": "code",
      "source": [
        "# Mas de una lnea en un bloque de codigo\n",
        "a = 3000\n",
        "b = 3000\n",
        "if b > a:\n",
        "    print(\"b es mayor que a:\")\n",
        "    print(\"b vale =>\", b)\n",
        "elif\n",
        "    print(\"a es igual que b\")\n",
        "    print(\"a y b valen =>\", a)\n",
        "else:\n",
        "    print(\"a es mayor que b\")\n",
        "    print(\"a vale =>\", a)\n",
        "print(\"Fin del if\")"
      ],
      "metadata": {
        "id": "JFCxSqL8mtAF"
      },
      "execution_count": null,
      "outputs": []
    },
    {
      "cell_type": "code",
      "source": [
        "# if y if.. else en version corta  o simplificada\n",
        "# del lado izquierdo es cuando es verdadera la condicion\n",
        "x = 50\n",
        "y = 60\n",
        "\n",
        "print(\"x es mayor que y\") if (x > y) else print(\"y es mayor que x\")"
      ],
      "metadata": {
        "colab": {
          "base_uri": "https://localhost:8080/"
        },
        "id": "VNVX_oKrn5oV",
        "outputId": "5196c645-8686-4f1a-eb3e-840ae512a2b5"
      },
      "execution_count": 2,
      "outputs": [
        {
          "output_type": "stream",
          "name": "stdout",
          "text": [
            "y es mayor que x\n"
          ]
        }
      ]
    },
    {
      "cell_type": "code",
      "source": [
        "i = 1\n",
        "while i <= 10:\n",
        "     print(i)\n",
        "     i +=1\n",
        "print(\"fuera del while\")"
      ],
      "metadata": {
        "colab": {
          "base_uri": "https://localhost:8080/"
        },
        "id": "k1YDi2KnpBct",
        "outputId": "7e890a63-4213-420e-ae73-058cd3251369"
      },
      "execution_count": 5,
      "outputs": [
        {
          "output_type": "stream",
          "name": "stdout",
          "text": [
            "1\n",
            "2\n",
            "3\n",
            "4\n",
            "5\n",
            "6\n",
            "7\n",
            "8\n",
            "9\n",
            "10\n",
            "fuera del while\n"
          ]
        }
      ]
    },
    {
      "cell_type": "code",
      "source": [
        "# copiamos el ejemplo anterior para poner contexto BREAK\n",
        "# Agregamos una condicion para que se saga del ciclo cuando cumpla un criterio\n",
        "i = 1\n",
        "while i <=1000\n",
        "     print(i)\n",
        "     if i == 10:\n",
        "         print(\"Entro al if\")\n",
        "         break\n",
        "     i += 1\n",
        "print(\"Fuera del while\")"
      ],
      "metadata": {
        "id": "KCSTulMrps2g"
      },
      "execution_count": null,
      "outputs": []
    },
    {
      "cell_type": "code",
      "source": [
        "while(True):\n",
        "     print(\"\"\"selecciona una opcion\n",
        "     1) opcion 1\n",
        "     2) opcion 2\n",
        "     3) Salir\"\"\")\n",
        "     opcion = input(\"¿Cual es la opcion que deseas?\")\n",
        "     if opcion == \"1\":\n",
        "         print(\"Seleccionaste la opcion 1 \\n\")\n",
        "     elif opcion == \"2\":\n",
        "         print(\"Seleccionaste la opcion salir\")\n",
        "\n",
        "     elif opcion == \"3\":\n",
        "         break\n",
        "     else:\n",
        "         print(\"opcion desconocida, vuelve a intentarlo\")\n",
        "print(\"Fuera del ciclo\")\n"
      ],
      "metadata": {
        "id": "sYzHR_QurPkx"
      },
      "execution_count": null,
      "outputs": []
    }
  ]
}